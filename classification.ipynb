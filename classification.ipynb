{
 "cells": [
  {
   "cell_type": "code",
   "execution_count": 1,
   "metadata": {},
   "outputs": [],
   "source": [
    "import pandas as pd\n",
    "import numpy as np\n",
    "from sklearn.model_selection import train_test_split\n",
    "from sklearn.preprocessing import StandardScaler, LabelEncoder\n",
    "from sklearn.ensemble import RandomForestClassifier\n",
    "from sklearn.metrics import classification_report, confusion_matrix\n",
    "from sklearn.model_selection import GridSearchCV\n"
   ]
  },
  {
   "cell_type": "code",
   "execution_count": 2,
   "metadata": {},
   "outputs": [
    {
     "name": "stdout",
     "output_type": "stream",
     "text": [
      "  Ware_house_ID WH_Manager_ID Location_type WH_capacity_size   zone  \\\n",
      "0     WH_100000     EID_50000         Urban            Small   West   \n",
      "1     WH_100001     EID_50001         Rural            Large  North   \n",
      "2     WH_100002     EID_50002         Rural              Mid  South   \n",
      "3     WH_100003     EID_50003         Rural              Mid  North   \n",
      "4     WH_100004     EID_50004         Rural            Large  North   \n",
      "\n",
      "  WH_regional_zone  num_refill_req_l3m  transport_issue_l1y  \\\n",
      "0           Zone 6                   3                    1   \n",
      "1           Zone 5                   0                    0   \n",
      "2           Zone 2                   1                    0   \n",
      "3           Zone 3                   7                    4   \n",
      "4           Zone 5                   3                    1   \n",
      "\n",
      "   Competitor_in_mkt  retail_shop_num  ... electric_supply  dist_from_hub  \\\n",
      "0                  2             4651  ...               1             91   \n",
      "1                  4             6217  ...               1            210   \n",
      "2                  4             4306  ...               0            161   \n",
      "3                  2             6000  ...               0            103   \n",
      "4                  2             4740  ...               1            112   \n",
      "\n",
      "   workers_num  wh_est_year  storage_issue_reported_l3m  temp_reg_mach  \\\n",
      "0         29.0          NaN                          13              0   \n",
      "1         31.0          NaN                           4              0   \n",
      "2         37.0          NaN                          17              0   \n",
      "3         21.0          NaN                          17              1   \n",
      "4         25.0       2009.0                          18              0   \n",
      "\n",
      "   approved_wh_govt_certificate  wh_breakdown_l3m  govt_check_l3m  \\\n",
      "0                             A                 5              15   \n",
      "1                             A                 3              17   \n",
      "2                             A                 6              22   \n",
      "3                            A+                 3              27   \n",
      "4                             C                 6              24   \n",
      "\n",
      "   product_wg_ton  \n",
      "0           17115  \n",
      "1            5074  \n",
      "2           23137  \n",
      "3           22115  \n",
      "4           24071  \n",
      "\n",
      "[5 rows x 24 columns]\n",
      "Ware_house_ID                       0\n",
      "WH_Manager_ID                       0\n",
      "Location_type                       0\n",
      "WH_capacity_size                    0\n",
      "zone                                0\n",
      "WH_regional_zone                    0\n",
      "num_refill_req_l3m                  0\n",
      "transport_issue_l1y                 0\n",
      "Competitor_in_mkt                   0\n",
      "retail_shop_num                     0\n",
      "wh_owner_type                       0\n",
      "distributor_num                     0\n",
      "flood_impacted                      0\n",
      "flood_proof                         0\n",
      "electric_supply                     0\n",
      "dist_from_hub                       0\n",
      "workers_num                       990\n",
      "wh_est_year                     11881\n",
      "storage_issue_reported_l3m          0\n",
      "temp_reg_mach                       0\n",
      "approved_wh_govt_certificate      908\n",
      "wh_breakdown_l3m                    0\n",
      "govt_check_l3m                      0\n",
      "product_wg_ton                      0\n",
      "dtype: int64\n"
     ]
    }
   ],
   "source": [
    "\n",
    "df = pd.read_csv(\"data.csv\")  \n",
    "\n",
    "\n",
    "print(df.head())\n",
    "\n",
    "\n",
    "print(df.isnull().sum())\n"
   ]
  },
  {
   "cell_type": "code",
   "execution_count": 4,
   "metadata": {},
   "outputs": [],
   "source": [
    "\n",
    "df.fillna(df.mean(numeric_only=True), inplace=True)\n",
    "\n",
    "\n",
    "categorical_columns = df.select_dtypes(include=['object']).columns\n",
    "for col in categorical_columns:\n",
    "    df[col] = df[col].fillna(df[col].mode()[0])\n",
    "\n"
   ]
  },
  {
   "cell_type": "code",
   "execution_count": 45,
   "metadata": {},
   "outputs": [],
   "source": [
    "le=LabelEncoder()\n",
    "\n",
    "\n",
    "\n",
    "for col in categorical_columns:\n",
    "    df[col] = le.fit_transform(df[col])\n"
   ]
  },
  {
   "cell_type": "code",
   "execution_count": 46,
   "metadata": {},
   "outputs": [
    {
     "name": "stdout",
     "output_type": "stream",
     "text": [
      "Categorical Columns: Index([], dtype='object')\n"
     ]
    }
   ],
   "source": [
    "categorical_columns = df.select_dtypes(include=['object']).columns\n",
    "print(\"Categorical Columns:\", categorical_columns)\n"
   ]
  },
  {
   "cell_type": "code",
   "execution_count": 54,
   "metadata": {},
   "outputs": [],
   "source": [
    "\n",
    "bins = [0, 2, 5, np.inf]\n",
    "labels = [0, 1, 2]  \n",
    "df['demand_class'] = pd.cut(df['num_refill_req_l3m'], bins=bins, labels=labels)\n"
   ]
  },
  {
   "cell_type": "code",
   "execution_count": 63,
   "metadata": {},
   "outputs": [
    {
     "name": "stdout",
     "output_type": "stream",
     "text": [
      "0\n"
     ]
    }
   ],
   "source": [
    "print(df['demand_class'].isnull().sum())\n",
    "df.isnull().sum()\n",
    "\n",
    "df = df.dropna(subset=['demand_class'])\n",
    "\n",
    "\n"
   ]
  },
  {
   "cell_type": "code",
   "execution_count": null,
   "metadata": {},
   "outputs": [],
   "source": [
    "\n",
    "X = df.drop(columns=['demand_class'])  \n",
    "y = df['demand_class']\n",
    "\n",
    "\n",
    "X_train, X_test, y_train, y_test = train_test_split(X, y, test_size=0.2, random_state=42, stratify=y)\n"
   ]
  },
  {
   "cell_type": "code",
   "execution_count": 60,
   "metadata": {},
   "outputs": [],
   "source": [
    "\n",
    "numerical_cols = ['dist_from_hub', 'workers_num', 'product_wg_ton'] \n",
    "scaler = StandardScaler()\n",
    "\n",
    "X_train[numerical_cols] = scaler.fit_transform(X_train[numerical_cols])\n",
    "X_test[numerical_cols] = scaler.transform(X_test[numerical_cols])\n"
   ]
  },
  {
   "cell_type": "code",
   "execution_count": 61,
   "metadata": {},
   "outputs": [],
   "source": [
    "\n",
    "rf_model = RandomForestClassifier(random_state=42)\n",
    "rf_model.fit(X_train, y_train)\n",
    "\n",
    "\n",
    "y_pred = rf_model.predict(X_test)\n"
   ]
  },
  {
   "cell_type": "code",
   "execution_count": 62,
   "metadata": {},
   "outputs": [
    {
     "name": "stdout",
     "output_type": "stream",
     "text": [
      "Accuracy: 1.0\n"
     ]
    }
   ],
   "source": [
    "accuracy = rf_model.score(X_test, y_test)\n",
    "print(\"Accuracy:\", accuracy)"
   ]
  },
  {
   "cell_type": "code",
   "execution_count": null,
   "metadata": {},
   "outputs": [],
   "source": []
  },
  {
   "cell_type": "code",
   "execution_count": null,
   "metadata": {},
   "outputs": [],
   "source": []
  },
  {
   "cell_type": "code",
   "execution_count": null,
   "metadata": {},
   "outputs": [],
   "source": []
  }
 ],
 "metadata": {
  "kernelspec": {
   "display_name": "venv",
   "language": "python",
   "name": "python3"
  },
  "language_info": {
   "codemirror_mode": {
    "name": "ipython",
    "version": 3
   },
   "file_extension": ".py",
   "mimetype": "text/x-python",
   "name": "python",
   "nbconvert_exporter": "python",
   "pygments_lexer": "ipython3",
   "version": "3.9.13"
  }
 },
 "nbformat": 4,
 "nbformat_minor": 2
}
